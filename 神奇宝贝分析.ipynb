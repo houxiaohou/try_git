{
 "cells": [
  {
   "cell_type": "markdown",
   "metadata": {},
   "source": [
    "这是对宠物小精灵功能的分析。 我主要使用Seaborn和matplotlib.pyplot."
   ]
  },
  {
   "cell_type": "code",
   "execution_count": null,
   "metadata": {
    "collapsed": true
   },
   "outputs": [],
   "source": [
    "import pandas as pd\n",
    "import seaborn as sns\n",
    "import matplotlib.pyplot as plt\n",
    "import numpy as np\n",
    "\n",
    "# read data\n",
    "pokemon = pd.read_csv(\"../input/Pokemon.csv\")\n",
    "type1 = pokemon['Type 1'].unique()\n",
    "len(type1)\n",
    "pk_type1 = pokemon.groupby('Type 1').count()['#']"
   ]
  },
  {
   "cell_type": "code",
   "execution_count": null,
   "metadata": {
    "collapsed": true
   },
   "outputs": [],
   "source": [
    "# take a look at the percentage of different types of pokemon\n",
    "labels = 'Water', 'Normal', 'Grass', 'Bug', 'Psychic', 'Fire', 'Electric', 'Rock', 'Other'\n",
    "sizes = [112, 98, 70, 69, 57, 52, 44, 44, 175]\n",
    "colors = ['yellowgreen', 'gold', 'lightskyblue', 'lightcoral', 'yellow', 'lightgreen', 'silver', 'white', 'pink']\n",
    "explode = (0, 0, 0, 0, 0, 0, 0, 0, 0.1)  # only \"explode\" the 2nd slice (i.e. 'Hogs')\n",
    "\n",
    "plt.pie(sizes, explode=explode, labels=labels, colors=colors,\n",
    "        autopct='%1.1f%%', shadow=True, startangle=90)\n",
    "# Set aspect ratio to be equal so that pie is drawn as a circle.\n",
    "plt.axis('equal')\n",
    "plt.title(\"Percentage of Different Types of Pokemon\")"
   ]
  },
  {
   "cell_type": "code",
   "execution_count": null,
   "metadata": {
    "collapsed": true
   },
   "outputs": [],
   "source": [
    "# convert type1 to int\n",
    "####### Thanks for Paul's comment, I changed this part to 'map' #######\n",
    "type_to_int_dict = { 'Grass': 0, 'Fire': 1, 'Water': 2, 'Bug': 3, 'Normal': 4, \n",
    "                    'Poison': 5, 'Electric': 6, 'Ground': 7, 'Fairy': 8, 'Fighting': 9,\n",
    "                    'Psychic' : 10, 'Rock': 11, 'Ghost':12, 'Ice' : 13, 'Dragon': 14, \n",
    "                    'Dark': 15, 'Steel': 16, 'Flying': 17} \n",
    "        \n",
    "pokemon['Int_Type1'] = pokemon['Type 1'].map(type_to_int_dict).astype(int)\n",
    "\n",
    "# Let's consider Total value of different Pokemon types\n",
    "sns.set(style=\"ticks\")\n",
    "fig, ax = plt.subplots(figsize=(8,6))\n",
    "sns.boxplot(ax = ax, x=\"Int_Type1\", y=\"Total\", data= pokemon, palette=\"PRGn\")\n",
    "sns.despine(offset=10, trim=True)\n",
    "# seems difficult to determine type by total value"
   ]
  },
  {
   "cell_type": "code",
   "execution_count": null,
   "metadata": {
    "collapsed": true
   },
   "outputs": [],
   "source": [
    "# Consider Pokemon features\n",
    "pokemon['Atk - Def'] = pokemon['Attack'] - pokemon['Defense']\n",
    "pokemon['Sp.Atk - Sp.Def'] = pokemon['Sp. Atk'] - pokemon['Sp. Def']\n",
    "pk_mean = pokemon.groupby('Int_Type1').mean()[['HP', 'Attack', 'Defense', 'Sp. Atk', 'Sp. Def', 'Speed','Atk - Def','Sp.Atk - Sp.Def']]\n",
    "predictors = ['HP','Speed','Atk - Def','Sp.Atk - Sp.Def']\n",
    "data = pokemon[['HP','Speed','Atk - Def','Sp.Atk - Sp.Def']]\n",
    "# distribution of these features for all pokemon\n",
    "f, ax = plt.subplots(figsize=(8, 6))\n",
    "sns.violinplot(data=data, palette=\"Set3\", bw=.2, cut=1, linewidth=1)\n",
    "ax.set(ylim=(-120, 200))\n",
    "ax.set_title(\"Important Features of Pokemon\")\n",
    "sns.despine(left=True, bottom=True)"
   ]
  },
  {
   "cell_type": "code",
   "execution_count": null,
   "metadata": {
    "collapsed": true
   },
   "outputs": [],
   "source": [
    "# distribution of HP among all types of pokemon\n",
    "hp_data = pokemon[['Name','Type 1','HP']]\n",
    "hp_data = hp_data.pivot_table(values = 'HP',index = ['Name'],  columns = ['Type 1'])\n",
    "hp_data.head()\n",
    "f, ax = plt.subplots(figsize=(18, 6))\n",
    "sns.violinplot(data=hp_data, palette=\"Set3\", bw=.2, cut=1, linewidth=1)\n",
    "ax.set(ylim=(0, 200))\n",
    "ax.set_title(\"HP of Different Types of Pokemon\")\n",
    "sns.despine(left=True, bottom=True)"
   ]
  },
  {
   "cell_type": "code",
   "execution_count": null,
   "metadata": {
    "collapsed": true
   },
   "outputs": [],
   "source": [
    "# distributionof Speed among all types of pokemon\n",
    "hp_data = pokemon[['Name','Type 1','Speed']]\n",
    "hp_data = hp_data.pivot_table(values = 'Speed',index = ['Name'],  columns = ['Type 1'])\n",
    "hp_data.head()\n",
    "f, ax = plt.subplots(figsize=(18, 6))\n",
    "sns.violinplot(data=hp_data, palette=\"Set3\", bw=.2, cut=1, linewidth=1)\n",
    "ax.set(ylim=(0, 200))\n",
    "ax.set_title(\"Speed of Different Types of Pokemon\")\n",
    "sns.despine(left=True, bottom=True)"
   ]
  },
  {
   "cell_type": "code",
   "execution_count": null,
   "metadata": {
    "collapsed": true
   },
   "outputs": [],
   "source": [
    "# distribution of Atk - Def among all types of pokemon\n",
    "hp_data = pokemon[['Name','Type 1','Atk - Def']]\n",
    "hp_data = hp_data.pivot_table(values = 'Atk - Def',index = ['Name'],  columns = ['Type 1'])\n",
    "hp_data.head()\n",
    "f, ax = plt.subplots(figsize=(18, 6))\n",
    "sns.violinplot(data=hp_data, palette=\"Set3\", bw=.2, cut=1, linewidth=1)\n",
    "ax.set(ylim=(-150, 150))\n",
    "ax.set_title(\"Atk - Def of Different Types of Pokemon\")\n",
    "sns.despine(left=True, bottom=True)"
   ]
  },
  {
   "cell_type": "code",
   "execution_count": null,
   "metadata": {
    "collapsed": true
   },
   "outputs": [],
   "source": [
    "# distribution of Sp.Atk - Sp.Def among all types of pokemon\n",
    "hp_data = pokemon[['Name','Type 1','Sp.Atk - Sp.Def']]\n",
    "hp_data = hp_data.pivot_table(values = 'Sp.Atk - Sp.Def',index = ['Name'],  columns = ['Type 1'])\n",
    "hp_data.head()\n",
    "f, ax = plt.subplots(figsize=(18, 6))\n",
    "sns.violinplot(data=hp_data, palette=\"Set3\", bw=.2, cut=1, linewidth=1)\n",
    "ax.set(ylim=(-150, 150))\n",
    "ax.set_title(\"Sp.Atk - Sp.Def of Different Types of Pokemon\")\n",
    "sns.despine(left=True, bottom=True)"
   ]
  },
  {
   "cell_type": "code",
   "execution_count": null,
   "metadata": {
    "collapsed": true
   },
   "outputs": [],
   "source": [
    "# Center the data to make it diverging\n",
    "sns.set(style=\"white\", context=\"talk\")\n",
    "f, (ax1, ax2) = plt.subplots(2, 1, figsize=(15, 8), sharex=True)\n",
    "data = pokemon.groupby(\"Type 1\").mean()[['Speed', 'HP', 'Atk - Def', 'Sp.Atk - Sp.Def']]\n",
    "\n",
    "sns.barplot(data.index, data['Atk - Def'], palette=\"RdBu_r\", ax=ax1)\n",
    "ax1.set_ylabel(\"Diverging in Atk - Def\")\n",
    "\n",
    "sns.barplot(data.index, data['Sp.Atk - Sp.Def'], palette=\"RdBu_r\", ax=ax2)\n",
    "ax2.set_ylabel(\"Diverging in Sp.Atk - Sp.Def\")"
   ]
  },
  {
   "cell_type": "code",
   "execution_count": null,
   "metadata": {
    "collapsed": true
   },
   "outputs": [],
   "source": [
    "# Cluster Analysis\n",
    "# The cluster analysis code is learned from http://scikit-learn.org/stable/auto_examples/cluster/plot_dbscan.html\n",
    "import warnings\n",
    "warnings.filterwarnings('ignore')\n",
    "from sklearn.cluster import DBSCAN\n",
    "from sklearn.preprocessing import StandardScaler\n",
    "centers = [[1, 1], [-1, -1], [1, -1]]\n",
    "data = pokemon[['Sp.Atk - Sp.Def', 'Atk - Def']]\n",
    "data = StandardScaler().fit_transform(data)\n",
    "\n",
    "# Compute DBSCAN\n",
    "db = DBSCAN(eps=0.3, min_samples=10).fit(data)\n",
    "core_samples_mask = np.zeros_like(db.labels_, dtype=bool)\n",
    "core_samples_mask[db.core_sample_indices_] = True\n",
    "labels = db.labels_\n",
    "\n",
    "# Number of clusters in labels, ignoring noise if present.\n",
    "n_clusters_ = len(set(labels)) - (1 if -1 in labels else 0)\n",
    "\n",
    "# Plot result\n",
    "import matplotlib.pyplot as plt\n",
    "\n",
    "# Black removed and is used for noise instead.\n",
    "unique_labels = set(labels)\n",
    "colors = plt.cm.Spectral(np.linspace(0, 2, len(unique_labels)))\n",
    "for k, col in zip(unique_labels, colors):\n",
    "    if k == -1:\n",
    "        # Black used for noise.\n",
    "        col = 'k'\n",
    "\n",
    "    class_member_mask = (labels == k)\n",
    "\n",
    "    xy = data[class_member_mask & core_samples_mask]\n",
    "    plt.plot(xy[:, 0], xy[:, 1], 'o', markerfacecolor=col,\n",
    "             markeredgecolor='k', markersize=14)\n",
    "\n",
    "    xy = data[class_member_mask & ~core_samples_mask]\n",
    "    plt.plot(xy[:, 0], xy[:, 1], 'o', markerfacecolor=col,\n",
    "             markeredgecolor='k', markersize=6)\n",
    "\n",
    "plt.title('Estimated number of clusters: %d' % n_clusters_)\n",
    "plt.show()\n",
    "# the cluster result is not good, there are too many outliers and clusters are not obvious"
   ]
  }
 ],
 "metadata": {
  "kernelspec": {
   "display_name": "Apache Toree - Scala",
   "language": "scala",
   "name": "apache_toree_scala"
  },
  "language_info": {
   "name": "python",
   "version": "3.5.1"
  }
 },
 "nbformat": 4,
 "nbformat_minor": 0
}
